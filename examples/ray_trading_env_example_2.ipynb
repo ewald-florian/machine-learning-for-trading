{
 "cells": [
  {
   "cell_type": "markdown",
   "id": "105d7b54",
   "metadata": {},
   "source": [
    "# Ray Trading Example 2"
   ]
  },
  {
   "cell_type": "raw",
   "id": "f2763772",
   "metadata": {},
   "source": [
    "Experiment with Ray Rllib\n",
    "\n",
    "- Create a PPO Trainer instance\n",
    "- Test different configurations\n",
    "- Test training loops and analyze results\n",
    "- Run a hyperparameter tuning gridrearch with Ray Tune\n",
    "- Create custom DNN with Keras"
   ]
  },
  {
   "cell_type": "raw",
   "id": "60c0e576",
   "metadata": {},
   "source": [
    "Notes on the setup (for Linux):\n",
    "$ conda create -n rllib python=3.8\n",
    "$ conda activate rllib\n",
    "$ pip install ray[rllib]\n",
    "$ pip install tensorflow  # <- either one works!\n",
    "$ pip install torch  # <- either one works!\n",
    "$ pip install jupyterlab"
   ]
  },
  {
   "cell_type": "raw",
   "id": "118294b3",
   "metadata": {},
   "source": [
    "Clone Github Repo:\n",
    "$ git clone https://github.com/ewald-florian/machine-learning-for-trading.git"
   ]
  },
  {
   "cell_type": "code",
   "execution_count": 1,
   "id": "354ed974",
   "metadata": {},
   "outputs": [],
   "source": [
    "# Imports"
   ]
  },
  {
   "cell_type": "code",
   "execution_count": 2,
   "id": "6ea2b859",
   "metadata": {},
   "outputs": [
    {
     "name": "stderr",
     "output_type": "stream",
     "text": [
      "INFO:ray_trading_env:ray_trading_env logger started.\n"
     ]
    }
   ],
   "source": [
    "import numpy as np\n",
    "import pandas as pd\n",
    "import os\n",
    "import matplotlib.pyplot as plt\n",
    "plt.style.use('seaborn')\n",
    "import pprint\n",
    "import ray\n",
    "from ray.rllib.agents.ppo import PPOTrainer\n",
    "\n",
    "from ray_trading_env import RayTradingEnvironment"
   ]
  },
  {
   "cell_type": "code",
   "execution_count": 3,
   "id": "1f07b220",
   "metadata": {},
   "outputs": [
    {
     "name": "stderr",
     "output_type": "stream",
     "text": [
      "2022-06-27 17:38:25,295\tWARNING services.py:2002 -- WARNING: The object store is using /tmp instead of /dev/shm because /dev/shm has only 67096576 bytes available. This will harm performance! You may be able to free up space by deleting files in /dev/shm. If you are inside a Docker container, you can increase /dev/shm size by passing '--shm-size=10.24gb' to 'docker run' (or add it to the run_options list in a Ray cluster config). Make sure to set this to more than 30% of available RAM.\n"
     ]
    },
    {
     "data": {
      "text/plain": [
       "RayContext(dashboard_url='', python_version='3.8.8', ray_version='1.13.0', ray_commit='e4ce38d001dbbe09cd21c497fedd03d692b2be3e', address_info={'node_ip_address': '10.1.150.226', 'raylet_ip_address': '10.1.150.226', 'redis_address': None, 'object_store_address': '/tmp/ray/session_2022-06-27_17-38-24_690480_52191/sockets/plasma_store', 'raylet_socket_name': '/tmp/ray/session_2022-06-27_17-38-24_690480_52191/sockets/raylet', 'webui_url': '', 'session_dir': '/tmp/ray/session_2022-06-27_17-38-24_690480_52191', 'metrics_export_port': 52861, 'gcs_address': '10.1.150.226:64048', 'address': '10.1.150.226:64048', 'node_id': 'bc6d3dd929e0c655cf174fa0fdec029f38b96b18bec43345526e25a0'})"
      ]
     },
     "execution_count": 3,
     "metadata": {},
     "output_type": "execute_result"
    }
   ],
   "source": [
    "# Start a new instance of Ray\n",
    "# Note: execute cell only once!\n",
    "# instance can be stopped with ray.shutdown()\n",
    "ray.init()"
   ]
  },
  {
   "cell_type": "markdown",
   "id": "be9590f9",
   "metadata": {},
   "source": [
    "### Instantiate and Train PPOTrainer"
   ]
  },
  {
   "cell_type": "code",
   "execution_count": 4,
   "id": "e3e2b761",
   "metadata": {},
   "outputs": [],
   "source": [
    "# config dict for Rllib\n",
    "config = {\n",
    "    \"env\": RayTradingEnvironment,\n",
    "    \"env_config\": {\n",
    "        \"config\": {\n",
    "            \"trading_days\": 252,\n",
    "            \"trading_cost_bps\": 1e-3,\n",
    "            \"time_cost_bps\": 1e-4,\n",
    "            \"ticker\": \"AAPL\",\n",
    "            # note: need to specify path when using Tune\n",
    "            \"data_path\": \"/home/jovyan/machine-learning-for-trading/AAPL_prices.csv\",\n",
    "            #\"max_episode_steps\": 252,\n",
    "        },\n",
    "    },\n",
    "\n",
    "    \"create_env_on_driver\": True,\n",
    "    # horizon needs to be specified if the env has no \n",
    "    # max_number_of_steps-like parameter\n",
    "    \"horizon\" : 252,\n",
    "}"
   ]
  },
  {
   "cell_type": "code",
   "execution_count": 5,
   "id": "16023295",
   "metadata": {},
   "outputs": [
    {
     "name": "stderr",
     "output_type": "stream",
     "text": [
      "2022-06-27 17:38:36,684\tINFO trainer.py:2332 -- Your framework setting is 'tf', meaning you are using static-graph mode. Set framework='tf2' to enable eager execution with tf2.x. You may also then want to set eager_tracing=True in order to reach similar execution speed as with static-graph mode.\n",
      "2022-06-27 17:38:36,685\tINFO ppo.py:414 -- In multi-agent mode, policies will be optimized sequentially by the multi-GPU optimizer. Consider setting simple_optimizer=True if this doesn't work for you.\n",
      "2022-06-27 17:38:36,685\tINFO trainer.py:903 -- Current log_level is WARN. For more information, set 'log_level': 'INFO' / 'DEBUG' or use the -v and -vv flags.\n",
      "INFO:ray_trading_env:got data for AAPL...\n",
      "/opt/conda/lib/python3.8/site-packages/gym/spaces/box.py:73: UserWarning: \u001b[33mWARN: Box bound precision lowered by casting to float32\u001b[0m\n",
      "  logger.warn(\n",
      "2022-06-27 17:38:36,759\tWARNING env.py:135 -- Your env doesn't have a .spec.max_episode_steps attribute. This is fine if you have set 'horizon' in your config dictionary, or `soft_horizon`. However, if you haven't, 'horizon' will default to infinity, and your environment will not be reset.\n",
      "2022-06-27 17:38:39,004\tWARNING util.py:65 -- Install gputil for GPU system monitoring.\n",
      "\u001b[2m\u001b[36m(RolloutWorker pid=53080)\u001b[0m INFO:ray_trading_env:ray_trading_env logger started.\n",
      "\u001b[2m\u001b[36m(RolloutWorker pid=53079)\u001b[0m INFO:ray_trading_env:ray_trading_env logger started.\n",
      "\u001b[2m\u001b[36m(RolloutWorker pid=53080)\u001b[0m INFO:ray_trading_env:got data for AAPL...\n",
      "\u001b[2m\u001b[36m(RolloutWorker pid=53080)\u001b[0m /opt/conda/lib/python3.8/site-packages/gym/spaces/box.py:73: UserWarning: \u001b[33mWARN: Box bound precision lowered by casting to float32\u001b[0m\n",
      "\u001b[2m\u001b[36m(RolloutWorker pid=53080)\u001b[0m   logger.warn(\n",
      "\u001b[2m\u001b[36m(RolloutWorker pid=53080)\u001b[0m 2022-06-27 17:38:39,126\tWARNING env.py:135 -- Your env doesn't have a .spec.max_episode_steps attribute. This is fine if you have set 'horizon' in your config dictionary, or `soft_horizon`. However, if you haven't, 'horizon' will default to infinity, and your environment will not be reset.\n",
      "\u001b[2m\u001b[36m(RolloutWorker pid=53079)\u001b[0m INFO:ray_trading_env:got data for AAPL...\n",
      "\u001b[2m\u001b[36m(RolloutWorker pid=53079)\u001b[0m /opt/conda/lib/python3.8/site-packages/gym/spaces/box.py:73: UserWarning: \u001b[33mWARN: Box bound precision lowered by casting to float32\u001b[0m\n",
      "\u001b[2m\u001b[36m(RolloutWorker pid=53079)\u001b[0m   logger.warn(\n",
      "\u001b[2m\u001b[36m(RolloutWorker pid=53079)\u001b[0m 2022-06-27 17:38:39,120\tWARNING env.py:135 -- Your env doesn't have a .spec.max_episode_steps attribute. This is fine if you have set 'horizon' in your config dictionary, or `soft_horizon`. However, if you haven't, 'horizon' will default to infinity, and your environment will not be reset.\n"
     ]
    }
   ],
   "source": [
    "# Instantiate the Trainer object using above config.\n",
    "rllib_trainer = PPOTrainer(config=config)"
   ]
  },
  {
   "cell_type": "code",
   "execution_count": 6,
   "id": "bad60839",
   "metadata": {},
   "outputs": [],
   "source": [
    "# stop trainer instance\n",
    "# rllib_trainer.stop()"
   ]
  },
  {
   "cell_type": "markdown",
   "id": "31053fc8",
   "metadata": {},
   "source": [
    "### Run some training loops"
   ]
  },
  {
   "cell_type": "code",
   "execution_count": 7,
   "id": "149b03f4",
   "metadata": {},
   "outputs": [],
   "source": [
    "# dict with all configuration parameters\n",
    "trainer_config = rllib_trainer.get_config()"
   ]
  },
  {
   "cell_type": "code",
   "execution_count": 46,
   "id": "919fecd7",
   "metadata": {},
   "outputs": [],
   "source": [
    "# Train Method under the hood:\n",
    "# - It runs through parallel environments (depending on the setup)\n",
    "# - Collects data into a train batch (default: 4000 steps), Note: a single step in the env is two agent steps\n",
    "# - Then, it passes the batch into the main train processor and it will calculate losses, do the NN update\n",
    "# - This is called one single training iteration \n",
    "# - returns a dict with a lot of useful information"
   ]
  },
  {
   "cell_type": "code",
   "execution_count": 47,
   "id": "6d972861",
   "metadata": {},
   "outputs": [
    {
     "name": "stdout",
     "output_type": "stream",
     "text": [
      "...................................................................................................."
     ]
    }
   ],
   "source": [
    "# train the trainer instance\n",
    "results_list = []\n",
    "for _ in range(100):\n",
    "    # print dots to keep track of training\n",
    "    print('.', end=\"\")\n",
    "    results = rllib_trainer.train()\n",
    "    #print(f\"Iteration={rllib_trainer.iteration}: R(\\\"return\\\")={results['episode_reward_mean']}\")\n",
    "    episode_mean_reward = results['episode_reward_mean']\n",
    "    episode = rllib_trainer.iteration\n",
    "    results_list.append(np.array([episode, episode_mean_reward]))\n",
    "    \n",
    "result_array = np.array(results_list)"
   ]
  },
  {
   "cell_type": "code",
   "execution_count": 48,
   "id": "91d9356c",
   "metadata": {},
   "outputs": [
    {
     "data": {
      "image/png": "[encoded data removed]",
      "text/plain": [
       "<Figure size 576x396 with 1 Axes>"
      ]
     },
     "metadata": {},
     "output_type": "display_data"
    }
   ],
   "source": [
    "x = result_array[:,0]\n",
    "y = result_array[:,1]\n",
    "plt.plot(x,y)\n",
    "plt.title(\"Agent Performance over Train Episodes\")\n",
    "plt.show()"
   ]
  },
  {
   "cell_type": "markdown",
   "id": "9d968138",
   "metadata": {},
   "source": [
    "### Some trainer functions"
   ]
  },
  {
   "cell_type": "code",
   "execution_count": null,
   "id": "4f8ebdf0",
   "metadata": {},
   "outputs": [],
   "source": [
    "# show weights of the current model\n",
    "rllib_trainer.get_weights()"
   ]
  },
  {
   "cell_type": "code",
   "execution_count": 50,
   "id": "81c317d6",
   "metadata": {},
   "outputs": [
    {
     "data": {
      "text/plain": [
       "PPOTFPolicy"
      ]
     },
     "execution_count": 50,
     "metadata": {},
     "output_type": "execute_result"
    }
   ],
   "source": [
    "policy = rllib_trainer.get_policy()\n",
    "policy"
   ]
  },
  {
   "cell_type": "code",
   "execution_count": 53,
   "id": "f2b088cd",
   "metadata": {},
   "outputs": [
    {
     "data": {
      "text/plain": [
       "<ray.rllib.models.tf.fcnet.FullyConnectedNetwork at 0x7feea4d77880>"
      ]
     },
     "execution_count": 53,
     "metadata": {},
     "output_type": "execute_result"
    }
   ],
   "source": [
    "model = policy.model\n",
    "model"
   ]
  },
  {
   "cell_type": "code",
   "execution_count": 54,
   "id": "9b579659",
   "metadata": {},
   "outputs": [
    {
     "data": {
      "text/plain": [
       "Box(returns    -0.518692\n",
       "ret_2     -13.186786\n",
       "ret_5      -9.157841\n",
       "ret_10     -6.979122\n",
       "ret_21     -5.289787\n",
       "rsi        -1.529044\n",
       "macd       -5.407722\n",
       "atr        -0.615589\n",
       "stoch      -2.762308\n",
       "ultosc     -3.964109\n",
       "dtype: float32, returns     0.332152\n",
       "ret_2      11.431712\n",
       "ret_5      10.235379\n",
       "ret_10      9.135829\n",
       "ret_21      8.238228\n",
       "rsi         1.499695\n",
       "macd        5.705033\n",
       "atr         5.415272\n",
       "stoch       2.712635\n",
       "ultosc      2.763141\n",
       "dtype: float32, (10,), float32)"
      ]
     },
     "execution_count": 54,
     "metadata": {},
     "output_type": "execute_result"
    }
   ],
   "source": [
    "policy.observation_space"
   ]
  },
  {
   "cell_type": "code",
   "execution_count": 56,
   "id": "aca5d84e",
   "metadata": {},
   "outputs": [
    {
     "data": {
      "text/plain": [
       "array([[-0.32040977, -7.680346  , -6.1790137 ,  3.937136  , -3.794715  ,\n",
       "        -0.6995235 ,  0.81988394, -0.4039787 ,  1.3300564 , -0.20448495]],\n",
       "      dtype=float32)"
      ]
     },
     "execution_count": 56,
     "metadata": {},
     "output_type": "execute_result"
    }
   ],
   "source": [
    "obs = np.array([policy.observation_space.sample()])\n",
    "obs"
   ]
  },
  {
   "cell_type": "code",
   "execution_count": 72,
   "id": "9a4cc1a3",
   "metadata": {},
   "outputs": [],
   "source": [
    "from ray.rllib.utils.numpy import softmax\n",
    "# Get the action logits (as tf tensor).\n",
    "logits, _ = model({\"obs\": obs})\n",
    "# Numpyize the tensor by running `logits` through the Policy's own tf.Session.\n",
    "logits_np = policy.get_session().run(logits)\n",
    "# Convert logits into action probabilities and remove the B=1.\n",
    "action_probs = np.squeeze(softmax(logits_np))"
   ]
  },
  {
   "cell_type": "code",
   "execution_count": 76,
   "id": "e24b03c8",
   "metadata": {},
   "outputs": [
    {
     "data": {
      "text/plain": [
       "0"
      ]
     },
     "execution_count": 76,
     "metadata": {},
     "output_type": "execute_result"
    }
   ],
   "source": [
    "# Sample an action, using the probabilities.\n",
    "action = np.random.choice([0, 1, 2], p=action_probs)\n",
    "action"
   ]
  },
  {
   "cell_type": "code",
   "execution_count": 77,
   "id": "a3da9798",
   "metadata": {},
   "outputs": [
    {
     "data": {
      "text/plain": [
       "Discrete(3)"
      ]
     },
     "execution_count": 77,
     "metadata": {},
     "output_type": "execute_result"
    }
   ],
   "source": [
    "policy.action_space"
   ]
  },
  {
   "cell_type": "code",
   "execution_count": 78,
   "id": "0f16d0b0",
   "metadata": {},
   "outputs": [
    {
     "data": {
      "text/plain": [
       "2"
      ]
     },
     "execution_count": 78,
     "metadata": {},
     "output_type": "execute_result"
    }
   ],
   "source": [
    "action = policy.action_space.sample()\n",
    "action"
   ]
  },
  {
   "cell_type": "code",
   "execution_count": null,
   "id": "b788e6cb",
   "metadata": {},
   "outputs": [],
   "source": [
    "# rllib_trainer.step()"
   ]
  },
  {
   "cell_type": "code",
   "execution_count": 63,
   "id": "26841fb0",
   "metadata": {},
   "outputs": [
    {
     "data": {
      "text/plain": [
       "{'evaluation': {'episode_reward_max': nan,\n",
       "  'episode_reward_min': nan,\n",
       "  'episode_reward_mean': nan}}"
      ]
     },
     "execution_count": 63,
     "metadata": {},
     "output_type": "execute_result"
    }
   ],
   "source": [
    "rllib_trainer.evaluation_metrics"
   ]
  },
  {
   "cell_type": "code",
   "execution_count": null,
   "id": "12e4519f",
   "metadata": {},
   "outputs": [],
   "source": [
    "rllib_trainer.get_state()"
   ]
  },
  {
   "cell_type": "code",
   "execution_count": 89,
   "id": "19ef0f3e",
   "metadata": {},
   "outputs": [
    {
     "data": {
      "text/plain": [
       "{'evaluation': {'episode_reward_max': 1.198757276091062,\n",
       "  'episode_reward_min': -0.4484348432315458,\n",
       "  'episode_reward_mean': 0.437726364666634,\n",
       "  'episode_len_mean': 252.0,\n",
       "  'episode_media': {},\n",
       "  'episodes_this_iter': 7,\n",
       "  'policy_reward_min': {},\n",
       "  'policy_reward_max': {},\n",
       "  'policy_reward_mean': {},\n",
       "  'custom_metrics': {},\n",
       "  'hist_stats': {'episode_reward': [0.187161018604307,\n",
       "    -0.4484348432315458,\n",
       "    1.0505278125206798,\n",
       "    0.41999610501018625,\n",
       "    1.198757276091062,\n",
       "    0.34090612006800347,\n",
       "    0.31517106360374547],\n",
       "   'episode_lengths': [252, 252, 252, 252, 252, 252, 252]},\n",
       "  'sampler_perf': {'mean_raw_obs_processing_ms': 0.08006753592655579,\n",
       "   'mean_inference_ms': 1.0814950324367845,\n",
       "   'mean_action_processing_ms': 0.05050279806995916,\n",
       "   'mean_env_wait_ms': 0.18681591001526823,\n",
       "   'mean_env_render_ms': 0.0},\n",
       "  'off_policy_estimator': {},\n",
       "  'timesteps_this_iter': 2000}}"
      ]
     },
     "execution_count": 89,
     "metadata": {},
     "output_type": "execute_result"
    }
   ],
   "source": [
    "rllib_trainer.evaluate()"
   ]
  },
  {
   "cell_type": "markdown",
   "id": "48733676",
   "metadata": {},
   "source": [
    "### Saving and Restoring A Trainer Instance"
   ]
  },
  {
   "cell_type": "code",
   "execution_count": 79,
   "id": "2c038b12",
   "metadata": {},
   "outputs": [
    {
     "name": "stdout",
     "output_type": "stream",
     "text": [
      "Trainer (at iteration 100 was saved in '/home/jovyan/ray_results/PPOTrainer_RayTradingEnvironment_2022-06-27_15-55-12dxqfl4ph/checkpoint_000100/checkpoint-100'!\n"
     ]
    }
   ],
   "source": [
    "# create a checkpoint with trainer.save()\n",
    "checkpoint_file = rllib_trainer.save()\n",
    "print(f\"Trainer (at iteration {rllib_trainer.iteration} was saved in '{checkpoint_file}'!\")"
   ]
  },
  {
   "cell_type": "code",
   "execution_count": 84,
   "id": "2c4cb205",
   "metadata": {},
   "outputs": [
    {
     "name": "stdout",
     "output_type": "stream",
     "text": [
      "checkpoint files:\n"
     ]
    },
    {
     "data": {
      "text/plain": [
       "['.is_checkpoint', 'checkpoint-100.tune_metadata', 'checkpoint-100']"
      ]
     },
     "execution_count": 84,
     "metadata": {},
     "output_type": "execute_result"
    }
   ],
   "source": [
    "# checkpoint dir\n",
    "print(\"checkpoint files:\")\n",
    "os.listdir(os.path.dirname(checkpoint_file))"
   ]
  },
  {
   "cell_type": "code",
   "execution_count": 85,
   "id": "0366e080",
   "metadata": {},
   "outputs": [
    {
     "name": "stderr",
     "output_type": "stream",
     "text": [
      "INFO:ray_trading_env:got data for AAPL...\n",
      "INFO:ray_trading_env:None\n",
      "/opt/conda/lib/python3.8/site-packages/gym/spaces/box.py:73: UserWarning: \u001b[33mWARN: Box bound precision lowered by casting to float32\u001b[0m\n",
      "  logger.warn(\n",
      "2022-06-27 16:17:35,623\tWARNING env.py:135 -- Your env doesn't have a .spec.max_episode_steps attribute. This is fine if you have set 'horizon' in your config dictionary, or `soft_horizon`. However, if you haven't, 'horizon' will default to infinity, and your environment will not be reset.\n"
     ]
    },
    {
     "name": "stdout",
     "output_type": "stream",
     "text": [
      "<class 'pandas.core.frame.DataFrame'>\n",
      "MultiIndex: 9367 entries, (Timestamp('1981-01-30 00:00:00'), 'AAPL') to (Timestamp('2018-03-27 00:00:00'), 'AAPL')\n",
      "Data columns (total 10 columns):\n",
      " #   Column   Non-Null Count  Dtype  \n",
      "---  ------   --------------  -----  \n",
      " 0   returns  9367 non-null   float64\n",
      " 1   ret_2    9367 non-null   float64\n",
      " 2   ret_5    9367 non-null   float64\n",
      " 3   ret_10   9367 non-null   float64\n",
      " 4   ret_21   9367 non-null   float64\n",
      " 5   rsi      9367 non-null   float64\n",
      " 6   macd     9367 non-null   float64\n",
      " 7   atr      9367 non-null   float64\n",
      " 8   stoch    9367 non-null   float64\n",
      " 9   ultosc   9367 non-null   float64\n",
      "dtypes: float64(10)\n",
      "memory usage: 1.1+ MB\n"
     ]
    },
    {
     "name": "stderr",
     "output_type": "stream",
     "text": [
      "2022-06-27 16:17:36,094\tWARNING util.py:65 -- Install gputil for GPU system monitoring.\n",
      "\u001b[2m\u001b[36m(RolloutWorker pid=36337)\u001b[0m INFO:ray_trading_env:ray_trading_env logger started.\n",
      "\u001b[2m\u001b[36m(RolloutWorker pid=36336)\u001b[0m INFO:ray_trading_env:ray_trading_env logger started.\n",
      "\u001b[2m\u001b[36m(RolloutWorker pid=36336)\u001b[0m INFO:ray_trading_env:got data for AAPL...\n",
      "\u001b[2m\u001b[36m(RolloutWorker pid=36336)\u001b[0m /opt/conda/lib/python3.8/site-packages/gym/spaces/box.py:73: UserWarning: \u001b[33mWARN: Box bound precision lowered by casting to float32\u001b[0m\n",
      "\u001b[2m\u001b[36m(RolloutWorker pid=36336)\u001b[0m   logger.warn(\n",
      "\u001b[2m\u001b[36m(RolloutWorker pid=36336)\u001b[0m 2022-06-27 16:17:37,943\tWARNING env.py:135 -- Your env doesn't have a .spec.max_episode_steps attribute. This is fine if you have set 'horizon' in your config dictionary, or `soft_horizon`. However, if you haven't, 'horizon' will default to infinity, and your environment will not be reset.\n",
      "\u001b[2m\u001b[36m(RolloutWorker pid=36337)\u001b[0m INFO:ray_trading_env:got data for AAPL...\n",
      "\u001b[2m\u001b[36m(RolloutWorker pid=36337)\u001b[0m /opt/conda/lib/python3.8/site-packages/gym/spaces/box.py:73: UserWarning: \u001b[33mWARN: Box bound precision lowered by casting to float32\u001b[0m\n",
      "\u001b[2m\u001b[36m(RolloutWorker pid=36337)\u001b[0m   logger.warn(\n",
      "\u001b[2m\u001b[36m(RolloutWorker pid=36337)\u001b[0m 2022-06-27 16:17:37,969\tWARNING env.py:135 -- Your env doesn't have a .spec.max_episode_steps attribute. This is fine if you have set 'horizon' in your config dictionary, or `soft_horizon`. However, if you haven't, 'horizon' will default to infinity, and your environment will not be reset.\n"
     ]
    }
   ],
   "source": [
    "new_trainer = PPOTrainer(config=config)"
   ]
  },
  {
   "cell_type": "code",
   "execution_count": 86,
   "id": "6601607e",
   "metadata": {},
   "outputs": [
    {
     "name": "stdout",
     "output_type": "stream",
     "text": [
      "Evaluating new trainer: R=-0.3757544692309273\n"
     ]
    }
   ],
   "source": [
    "# new trainer instacne performs very poorly\n",
    "results = new_trainer.evaluate()\n",
    "print(f\"Evaluating new trainer: R={results['evaluation']['episode_reward_mean']}\")"
   ]
  },
  {
   "cell_type": "code",
   "execution_count": 87,
   "id": "fcfde964",
   "metadata": {},
   "outputs": [
    {
     "name": "stderr",
     "output_type": "stream",
     "text": [
      "2022-06-27 16:18:59,636\tINFO trainable.py:588 -- Restored on 10.1.150.226 from checkpoint: /home/jovyan/ray_results/PPOTrainer_RayTradingEnvironment_2022-06-27_15-55-12dxqfl4ph/checkpoint_000100/checkpoint-100\n",
      "2022-06-27 16:18:59,637\tINFO trainable.py:597 -- Current state after restoring: {'_iteration': 100, '_timesteps_total': None, '_time_total': 387.05677485466003, '_episodes_total': 1586}\n"
     ]
    },
    {
     "name": "stdout",
     "output_type": "stream",
     "text": [
      "Before restoring: Trainer is at iteration=0\n",
      "After restoring: Trainer is at iteration=100\n"
     ]
    }
   ],
   "source": [
    "# restore the trained weights of the first trainer\n",
    "print(f\"Before restoring: Trainer is at iteration={new_trainer.iteration}\")\n",
    "new_trainer.restore(checkpoint_file)\n",
    "print(f\"After restoring: Trainer is at iteration={new_trainer.iteration}\")"
   ]
  },
  {
   "cell_type": "code",
   "execution_count": 88,
   "id": "b2d36643",
   "metadata": {},
   "outputs": [
    {
     "name": "stdout",
     "output_type": "stream",
     "text": [
      "Evaluating restored trainer: R=0.16071565570886112\n"
     ]
    }
   ],
   "source": [
    "# performs already much better\n",
    "results = new_trainer.evaluate()\n",
    "print(f\"Evaluating restored trainer: R={results['evaluation']['episode_reward_mean']}\")"
   ]
  },
  {
   "cell_type": "markdown",
   "id": "58e87c5d",
   "metadata": {},
   "source": [
    "### Test larger number of workers"
   ]
  },
  {
   "cell_type": "code",
   "execution_count": 17,
   "id": "a5a7881d",
   "metadata": {},
   "outputs": [],
   "source": [
    "# stop the old trainer instance\n",
    "rllib_trainer.stop()"
   ]
  },
  {
   "cell_type": "code",
   "execution_count": 18,
   "id": "b01b3d67",
   "metadata": {},
   "outputs": [],
   "source": [
    "# set \"num_workers\" : 2\n",
    "config = {\n",
    "    \"env\": RayTradingEnvironment,\n",
    "    \"create_env_on_driver\": True,\n",
    "    # horizon needs to be specified if the env has no \n",
    "    # max_number_of_steps-like parameter\n",
    "    \"horizon\" : 252,\n",
    "    \"num_workers\" : 2\n",
    "}"
   ]
  },
  {
   "cell_type": "code",
   "execution_count": null,
   "id": "dfc16d62",
   "metadata": {},
   "outputs": [],
   "source": [
    "rllib_trainer = PPOTrainer(config=config)"
   ]
  },
  {
   "cell_type": "code",
   "execution_count": 24,
   "id": "77f0d75e",
   "metadata": {},
   "outputs": [
    {
     "data": {
      "text/plain": [
       "4"
      ]
     },
     "execution_count": 24,
     "metadata": {},
     "output_type": "execute_result"
    }
   ],
   "source": [
    "# number of workers of the config\n",
    "rllib_trainer.get_config().get('num_workers')"
   ]
  },
  {
   "cell_type": "code",
   "execution_count": 27,
   "id": "238bd03f",
   "metadata": {},
   "outputs": [
    {
     "name": "stdout",
     "output_type": "stream",
     "text": [
      "..........CPU times: user 39.8 s, sys: 4.57 s, total: 44.4 s\n",
      "Wall time: 33.1 s\n"
     ]
    }
   ],
   "source": [
    "%%time\n",
    "results_list = []\n",
    "for _ in range(10):\n",
    "    # print dots to keep track of training\n",
    "    print('.', end=\"\")\n",
    "    results = rllib_trainer.train()\n",
    "    #print(f\"Iteration={rllib_trainer.iteration}: R(\\\"return\\\")={results['episode_reward_mean']}\")\n",
    "    episode_mean_reward = results['episode_reward_mean']\n",
    "    episode = rllib_trainer.iteration\n",
    "    results_list.append(np.array([episode, episode_mean_reward]))\n",
    "    \n",
    "result_array = np.array(results_list)"
   ]
  },
  {
   "cell_type": "code",
   "execution_count": null,
   "id": "5ae3243e",
   "metadata": {},
   "outputs": [],
   "source": [
    "# stop the old trainer instance\n",
    "rllib_trainer.stop()"
   ]
  },
  {
   "cell_type": "code",
   "execution_count": 30,
   "id": "c93228a2",
   "metadata": {},
   "outputs": [],
   "source": [
    "# set \"num_workers\" : 16\n",
    "config = {\n",
    "    \"env\": RayTradingEnvironment,\n",
    "    \"create_env_on_driver\": True,\n",
    "    # horizon needs to be specified if the env has no \n",
    "    # max_number_of_steps-like parameter\n",
    "    \"horizon\" : 252,\n",
    "    \"num_workers\" : 16\n",
    "}"
   ]
  },
  {
   "cell_type": "code",
   "execution_count": null,
   "id": "b223f434",
   "metadata": {},
   "outputs": [],
   "source": [
    "rllib_trainer = PPOTrainer(config=config)"
   ]
  },
  {
   "cell_type": "code",
   "execution_count": 33,
   "id": "81f61b3b",
   "metadata": {},
   "outputs": [
    {
     "data": {
      "text/plain": [
       "16"
      ]
     },
     "execution_count": 33,
     "metadata": {},
     "output_type": "execute_result"
    }
   ],
   "source": [
    "rllib_trainer.get_config().get('num_workers')"
   ]
  },
  {
   "cell_type": "code",
   "execution_count": 34,
   "id": "40c7463c",
   "metadata": {},
   "outputs": [
    {
     "name": "stdout",
     "output_type": "stream",
     "text": [
      "..........CPU times: user 38.2 s, sys: 3.56 s, total: 41.8 s\n",
      "Wall time: 27.8 s\n"
     ]
    }
   ],
   "source": [
    "%%time\n",
    "results_list = []\n",
    "for _ in range(10):\n",
    "    # print dots to keep track of training\n",
    "    print('.', end=\"\")\n",
    "    results = rllib_trainer.train()\n",
    "    #print(f\"Iteration={rllib_trainer.iteration}: R(\\\"return\\\")={results['episode_reward_mean']}\")\n",
    "    episode_mean_reward = results['episode_reward_mean']\n",
    "    episode = rllib_trainer.iteration\n",
    "    results_list.append(np.array([episode, episode_mean_reward]))\n",
    "    \n",
    "result_array = np.array(results_list)"
   ]
  },
  {
   "cell_type": "markdown",
   "id": "1b728a11",
   "metadata": {},
   "source": [
    "### Close Session"
   ]
  },
  {
   "cell_type": "code",
   "execution_count": 90,
   "id": "8e74906e",
   "metadata": {},
   "outputs": [],
   "source": [
    "rllib_trainer.stop()\n",
    "new_trainer.stop()"
   ]
  },
  {
   "cell_type": "code",
   "execution_count": 91,
   "id": "d9ed6ef7",
   "metadata": {},
   "outputs": [],
   "source": [
    "ray.shutdown()"
   ]
  },
  {
   "cell_type": "code",
   "execution_count": null,
   "id": "95fa6094",
   "metadata": {},
   "outputs": [],
   "source": []
  },
  {
   "cell_type": "code",
   "execution_count": null,
   "id": "87ef8d16",
   "metadata": {},
   "outputs": [],
   "source": []
  },
  {
   "cell_type": "code",
   "execution_count": null,
   "id": "58f25513",
   "metadata": {},
   "outputs": [],
   "source": []
  },
  {
   "cell_type": "code",
   "execution_count": null,
   "id": "bc8147a4",
   "metadata": {},
   "outputs": [],
   "source": []
  }
 ],
 "metadata": {
  "kernelspec": {
   "display_name": "Python 3 (ipykernel)",
   "language": "python",
   "name": "python3"
  },
  "language_info": {
   "codemirror_mode": {
    "name": "ipython",
    "version": 3
   },
   "file_extension": ".py",
   "mimetype": "text/x-python",
   "name": "python",
   "nbconvert_exporter": "python",
   "pygments_lexer": "ipython3",
   "version": "3.8.8"
  }
 },
 "nbformat": 4,
 "nbformat_minor": 5
}
