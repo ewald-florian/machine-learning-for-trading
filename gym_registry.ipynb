{
 "cells": [
  {
   "cell_type": "markdown",
   "id": "0eda895c",
   "metadata": {},
   "source": [
    "# RayTradingEnv Gym Regsitry"
   ]
  },
  {
   "cell_type": "markdown",
   "id": "f5903922",
   "metadata": {},
   "source": [
    "- The RayTradingEnv which has an optimized format for the Ray Rllib Reinforcement Learning framework can still be used as OpenAI Gym environment\n",
    "- Pass a dictionary to specify environment parameters"
   ]
  },
  {
   "cell_type": "code",
   "execution_count": 1,
   "id": "9145fac6",
   "metadata": {},
   "outputs": [],
   "source": [
    "import warnings\n",
    "warnings.filterwarnings('ignore')"
   ]
  },
  {
   "cell_type": "code",
   "execution_count": 2,
   "id": "50d00585",
   "metadata": {},
   "outputs": [],
   "source": [
    "import gym\n",
    "import numpy as np\n",
    "import pandas as pd\n",
    "from gym.envs.registration import register"
   ]
  },
  {
   "cell_type": "code",
   "execution_count": 3,
   "id": "8340bb51",
   "metadata": {},
   "outputs": [
    {
     "name": "stderr",
     "output_type": "stream",
     "text": [
      "INFO:ray_trading_env:ray_trading_env logger started.\n"
     ]
    }
   ],
   "source": [
    "from ray_trading_env import RayTradingEnvironment"
   ]
  },
  {
   "cell_type": "markdown",
   "id": "1cf7ca9a",
   "metadata": {},
   "source": [
    "### Register and Make Gym Environment"
   ]
  },
  {
   "cell_type": "code",
   "execution_count": 4,
   "id": "43462586",
   "metadata": {},
   "outputs": [],
   "source": [
    "max_steps = 252"
   ]
  },
  {
   "cell_type": "code",
   "execution_count": 5,
   "id": "c99f2526",
   "metadata": {},
   "outputs": [],
   "source": [
    "register(\n",
    "    id='ray-trading-v0',\n",
    "    entry_point='ray_trading_env:RayTradingEnvironment',\n",
    "    max_episode_steps=max_steps\n",
    ")"
   ]
  },
  {
   "cell_type": "code",
   "execution_count": 6,
   "id": "6bd7f065",
   "metadata": {},
   "outputs": [
    {
     "data": {
      "text/plain": [
       "<function gym.envs.registration.register(id, **kwargs)>"
      ]
     },
     "execution_count": 6,
     "metadata": {},
     "output_type": "execute_result"
    }
   ],
   "source": [
    "register"
   ]
  },
  {
   "cell_type": "markdown",
   "id": "1e118067",
   "metadata": {},
   "source": [
    "##### Make Gym Env with default parameters"
   ]
  },
  {
   "cell_type": "code",
   "execution_count": 7,
   "id": "27dd65cb",
   "metadata": {},
   "outputs": [
    {
     "name": "stderr",
     "output_type": "stream",
     "text": [
      "INFO:ray_trading_env:got data for AAPL...\n"
     ]
    }
   ],
   "source": [
    "# with default parameters\n",
    "trading_environment = gym.make('ray-trading-v0')"
   ]
  },
  {
   "cell_type": "markdown",
   "id": "f37a9c99",
   "metadata": {},
   "source": [
    "##### Make Gym Env with custom parameters"
   ]
  },
  {
   "cell_type": "code",
   "execution_count": 8,
   "id": "ecc835f6",
   "metadata": {},
   "outputs": [],
   "source": [
    "# specify parameters in a confif dictionary\n",
    "config_dict =  {\n",
    "    \"trading_days\": 333,\n",
    "    \"trading_cost_bps\": 5e-3,\n",
    "    \"time_cost_bps\": 2e-4,\n",
    "    \"ticker\": \"AAPL\",\n",
    "    \"get_data_from_csv\": True,\n",
    "    # note: need to specify path when using Tune\n",
    "    \"data_path\": \"/home/jovyan/machine-learning-for-trading/AAPL_prices.csv\",\n",
    "}"
   ]
  },
  {
   "cell_type": "code",
   "execution_count": 11,
   "id": "9d717d57",
   "metadata": {},
   "outputs": [
    {
     "name": "stderr",
     "output_type": "stream",
     "text": [
      "INFO:ray_trading_env:got data for AAPL...\n"
     ]
    }
   ],
   "source": [
    "trading_environment = gym.make('ray-trading-v0', \n",
    "                               config=config_dict)"
   ]
  },
  {
   "cell_type": "code",
   "execution_count": 12,
   "id": "10727ba0",
   "metadata": {},
   "outputs": [
    {
     "name": "stdout",
     "output_type": "stream",
     "text": [
      "AAPL\n",
      "333\n",
      "0.005\n",
      "0.0002\n"
     ]
    }
   ],
   "source": [
    "print(trading_environment.env.ticker)\n",
    "print(trading_environment.env.trading_days)\n",
    "print(trading_environment.env.trading_cost_bps)\n",
    "print(trading_environment.env.time_cost_bps)"
   ]
  },
  {
   "cell_type": "markdown",
   "id": "b0a48dec",
   "metadata": {},
   "source": [
    "### Explore Functions"
   ]
  },
  {
   "cell_type": "code",
   "execution_count": 13,
   "id": "9e648da5",
   "metadata": {},
   "outputs": [
    {
     "data": {
      "text/plain": [
       "Discrete(3)"
      ]
     },
     "execution_count": 13,
     "metadata": {},
     "output_type": "execute_result"
    }
   ],
   "source": [
    "trading_environment.action_space"
   ]
  },
  {
   "cell_type": "code",
   "execution_count": 14,
   "id": "b3fe8824",
   "metadata": {},
   "outputs": [
    {
     "data": {
      "text/plain": [
       "3"
      ]
     },
     "execution_count": 14,
     "metadata": {},
     "output_type": "execute_result"
    }
   ],
   "source": [
    "trading_environment.action_space.n"
   ]
  },
  {
   "cell_type": "code",
   "execution_count": 15,
   "id": "0511404a",
   "metadata": {},
   "outputs": [
    {
     "data": {
      "text/plain": [
       "Box(returns    -0.518692\n",
       "ret_2     -13.186786\n",
       "ret_5      -9.157841\n",
       "ret_10     -6.979122\n",
       "ret_21     -5.289787\n",
       "rsi        -1.529044\n",
       "macd       -5.407722\n",
       "atr        -0.615589\n",
       "stoch      -2.762308\n",
       "ultosc     -3.964109\n",
       "dtype: float32, returns     0.332152\n",
       "ret_2      11.431712\n",
       "ret_5      10.235379\n",
       "ret_10      9.135829\n",
       "ret_21      8.238228\n",
       "rsi         1.499695\n",
       "macd        5.705033\n",
       "atr         5.415272\n",
       "stoch       2.712635\n",
       "ultosc      2.763141\n",
       "dtype: float32, (10,), float32)"
      ]
     },
     "execution_count": 15,
     "metadata": {},
     "output_type": "execute_result"
    }
   ],
   "source": [
    "trading_environment.observation_space"
   ]
  },
  {
   "cell_type": "code",
   "execution_count": 16,
   "id": "fa3217f3",
   "metadata": {},
   "outputs": [
    {
     "data": {
      "text/plain": [
       "(-inf, inf)"
      ]
     },
     "execution_count": 16,
     "metadata": {},
     "output_type": "execute_result"
    }
   ],
   "source": [
    "trading_environment.reward_range"
   ]
  },
  {
   "cell_type": "code",
   "execution_count": 17,
   "id": "fc91aa19",
   "metadata": {},
   "outputs": [
    {
     "data": {
      "text/plain": [
       "252"
      ]
     },
     "execution_count": 17,
     "metadata": {},
     "output_type": "execute_result"
    }
   ],
   "source": [
    "trading_environment.spec.max_episode_steps"
   ]
  },
  {
   "cell_type": "code",
   "execution_count": 18,
   "id": "e626feaf",
   "metadata": {},
   "outputs": [
    {
     "data": {
      "text/plain": [
       "252"
      ]
     },
     "execution_count": 18,
     "metadata": {},
     "output_type": "execute_result"
    }
   ],
   "source": [
    "trading_environment.spec.max_episode_steps"
   ]
  },
  {
   "cell_type": "markdown",
   "id": "537592c2",
   "metadata": {},
   "source": [
    "### Run Gym Env Loop with random actions (no learning involved)"
   ]
  },
  {
   "cell_type": "code",
   "execution_count": 20,
   "id": "aaca8a2f",
   "metadata": {},
   "outputs": [
    {
     "name": "stdout",
     "output_type": "stream",
     "text": [
      ".........."
     ]
    }
   ],
   "source": [
    "max_episodes = 10\n",
    "max_episode_steps = trading_environment.spec.max_episode_steps\n",
    "\n",
    "result_list = []\n",
    "for episode in range(1, max_episodes + 1):\n",
    "    current_state = trading_environment.reset()\n",
    "    print(\".\",end=\"\")\n",
    "    for step in range(max_episode_steps):\n",
    "        # take random action\n",
    "        action = np.random.randint(3)\n",
    "        new_state, reward, done, _ = trading_environment.step(action)\n",
    "        current_state = new_state\n",
    "        \n",
    "    # call the result method of the cuatom trading env    \n",
    "    result = trading_environment.env.simulator.result().iloc[-1]\n",
    "    result_list.append(result)"
   ]
  },
  {
   "cell_type": "code",
   "execution_count": 22,
   "id": "08464925",
   "metadata": {},
   "outputs": [],
   "source": [
    "results = pd.DataFrame(result_list).reset_index().drop(columns=\"index\")"
   ]
  },
  {
   "cell_type": "code",
   "execution_count": 23,
   "id": "5365a40e",
   "metadata": {},
   "outputs": [
    {
     "data": {
      "text/html": [
       "<div>\n",
       "<style scoped>\n",
       "    .dataframe tbody tr th:only-of-type {\n",
       "        vertical-align: middle;\n",
       "    }\n",
       "\n",
       "    .dataframe tbody tr th {\n",
       "        vertical-align: top;\n",
       "    }\n",
       "\n",
       "    .dataframe thead th {\n",
       "        text-align: right;\n",
       "    }\n",
       "</style>\n",
       "<table border=\"1\" class=\"dataframe\">\n",
       "  <thead>\n",
       "    <tr style=\"text-align: right;\">\n",
       "      <th></th>\n",
       "      <th>action</th>\n",
       "      <th>nav</th>\n",
       "      <th>market_nav</th>\n",
       "      <th>market_return</th>\n",
       "      <th>strategy_return</th>\n",
       "      <th>position</th>\n",
       "      <th>cost</th>\n",
       "      <th>trade</th>\n",
       "    </tr>\n",
       "  </thead>\n",
       "  <tbody>\n",
       "    <tr>\n",
       "      <th>0</th>\n",
       "      <td>0.0</td>\n",
       "      <td>1.0</td>\n",
       "      <td>1.0</td>\n",
       "      <td>0.0</td>\n",
       "      <td>0.0</td>\n",
       "      <td>0.0</td>\n",
       "      <td>0.0</td>\n",
       "      <td>0.0</td>\n",
       "    </tr>\n",
       "    <tr>\n",
       "      <th>1</th>\n",
       "      <td>0.0</td>\n",
       "      <td>1.0</td>\n",
       "      <td>1.0</td>\n",
       "      <td>0.0</td>\n",
       "      <td>0.0</td>\n",
       "      <td>0.0</td>\n",
       "      <td>0.0</td>\n",
       "      <td>0.0</td>\n",
       "    </tr>\n",
       "    <tr>\n",
       "      <th>2</th>\n",
       "      <td>0.0</td>\n",
       "      <td>1.0</td>\n",
       "      <td>1.0</td>\n",
       "      <td>0.0</td>\n",
       "      <td>0.0</td>\n",
       "      <td>0.0</td>\n",
       "      <td>0.0</td>\n",
       "      <td>0.0</td>\n",
       "    </tr>\n",
       "    <tr>\n",
       "      <th>3</th>\n",
       "      <td>0.0</td>\n",
       "      <td>1.0</td>\n",
       "      <td>1.0</td>\n",
       "      <td>0.0</td>\n",
       "      <td>0.0</td>\n",
       "      <td>0.0</td>\n",
       "      <td>0.0</td>\n",
       "      <td>0.0</td>\n",
       "    </tr>\n",
       "    <tr>\n",
       "      <th>4</th>\n",
       "      <td>0.0</td>\n",
       "      <td>1.0</td>\n",
       "      <td>1.0</td>\n",
       "      <td>0.0</td>\n",
       "      <td>0.0</td>\n",
       "      <td>0.0</td>\n",
       "      <td>0.0</td>\n",
       "      <td>0.0</td>\n",
       "    </tr>\n",
       "    <tr>\n",
       "      <th>5</th>\n",
       "      <td>0.0</td>\n",
       "      <td>1.0</td>\n",
       "      <td>1.0</td>\n",
       "      <td>0.0</td>\n",
       "      <td>0.0</td>\n",
       "      <td>0.0</td>\n",
       "      <td>0.0</td>\n",
       "      <td>0.0</td>\n",
       "    </tr>\n",
       "    <tr>\n",
       "      <th>6</th>\n",
       "      <td>0.0</td>\n",
       "      <td>1.0</td>\n",
       "      <td>1.0</td>\n",
       "      <td>0.0</td>\n",
       "      <td>0.0</td>\n",
       "      <td>0.0</td>\n",
       "      <td>0.0</td>\n",
       "      <td>0.0</td>\n",
       "    </tr>\n",
       "    <tr>\n",
       "      <th>7</th>\n",
       "      <td>0.0</td>\n",
       "      <td>1.0</td>\n",
       "      <td>1.0</td>\n",
       "      <td>0.0</td>\n",
       "      <td>0.0</td>\n",
       "      <td>0.0</td>\n",
       "      <td>0.0</td>\n",
       "      <td>0.0</td>\n",
       "    </tr>\n",
       "    <tr>\n",
       "      <th>8</th>\n",
       "      <td>0.0</td>\n",
       "      <td>1.0</td>\n",
       "      <td>1.0</td>\n",
       "      <td>0.0</td>\n",
       "      <td>0.0</td>\n",
       "      <td>0.0</td>\n",
       "      <td>0.0</td>\n",
       "      <td>0.0</td>\n",
       "    </tr>\n",
       "    <tr>\n",
       "      <th>9</th>\n",
       "      <td>0.0</td>\n",
       "      <td>1.0</td>\n",
       "      <td>1.0</td>\n",
       "      <td>0.0</td>\n",
       "      <td>0.0</td>\n",
       "      <td>0.0</td>\n",
       "      <td>0.0</td>\n",
       "      <td>0.0</td>\n",
       "    </tr>\n",
       "  </tbody>\n",
       "</table>\n",
       "</div>"
      ],
      "text/plain": [
       "   action  nav  market_nav  market_return  strategy_return  position  cost  \\\n",
       "0     0.0  1.0         1.0            0.0              0.0       0.0   0.0   \n",
       "1     0.0  1.0         1.0            0.0              0.0       0.0   0.0   \n",
       "2     0.0  1.0         1.0            0.0              0.0       0.0   0.0   \n",
       "3     0.0  1.0         1.0            0.0              0.0       0.0   0.0   \n",
       "4     0.0  1.0         1.0            0.0              0.0       0.0   0.0   \n",
       "5     0.0  1.0         1.0            0.0              0.0       0.0   0.0   \n",
       "6     0.0  1.0         1.0            0.0              0.0       0.0   0.0   \n",
       "7     0.0  1.0         1.0            0.0              0.0       0.0   0.0   \n",
       "8     0.0  1.0         1.0            0.0              0.0       0.0   0.0   \n",
       "9     0.0  1.0         1.0            0.0              0.0       0.0   0.0   \n",
       "\n",
       "   trade  \n",
       "0    0.0  \n",
       "1    0.0  \n",
       "2    0.0  \n",
       "3    0.0  \n",
       "4    0.0  \n",
       "5    0.0  \n",
       "6    0.0  \n",
       "7    0.0  \n",
       "8    0.0  \n",
       "9    0.0  "
      ]
     },
     "execution_count": 23,
     "metadata": {},
     "output_type": "execute_result"
    }
   ],
   "source": [
    "results"
   ]
  },
  {
   "cell_type": "code",
   "execution_count": null,
   "id": "3b856e31",
   "metadata": {},
   "outputs": [],
   "source": []
  }
 ],
 "metadata": {
  "kernelspec": {
   "display_name": "Python 3 (ipykernel)",
   "language": "python",
   "name": "python3"
  },
  "language_info": {
   "codemirror_mode": {
    "name": "ipython",
    "version": 3
   },
   "file_extension": ".py",
   "mimetype": "text/x-python",
   "name": "python",
   "nbconvert_exporter": "python",
   "pygments_lexer": "ipython3",
   "version": "3.8.8"
  }
 },
 "nbformat": 4,
 "nbformat_minor": 5
}
