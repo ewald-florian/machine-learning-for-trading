{
 "cells": [
  {
   "cell_type": "markdown",
   "id": "6f073ac2",
   "metadata": {},
   "source": [
    "# Tune Registry"
   ]
  },
  {
   "cell_type": "markdown",
   "id": "47d3a4f6",
   "metadata": {},
   "source": [
    "- You can also register a custom env creator function with a string name. \n",
    "- This function must take a single env_config (dict) parameter and return an env instance\n",
    "- [Configuring Environments](https://docs.ray.io/en/latest/rllib/rllib-env.html)"
   ]
  },
  {
   "cell_type": "code",
   "execution_count": 1,
   "id": "e4c80121",
   "metadata": {},
   "outputs": [],
   "source": [
    "import gym, ray\n",
    "from ray.rllib.agents import ppo\n",
    "from ray.tune.registry import register_env"
   ]
  },
  {
   "cell_type": "code",
   "execution_count": 2,
   "id": "a5eaa964",
   "metadata": {},
   "outputs": [
    {
     "name": "stderr",
     "output_type": "stream",
     "text": [
      "INFO:ray_trading_env:ray_trading_env logger started.\n"
     ]
    }
   ],
   "source": [
    "from ray_trading_env import RayTradingEnvironment"
   ]
  },
  {
   "cell_type": "code",
   "execution_count": 3,
   "id": "1111f591",
   "metadata": {},
   "outputs": [
    {
     "name": "stderr",
     "output_type": "stream",
     "text": [
      "2022-06-27 19:46:39,666\tWARNING services.py:2002 -- WARNING: The object store is using /tmp instead of /dev/shm because /dev/shm has only 67096576 bytes available. This will harm performance! You may be able to free up space by deleting files in /dev/shm. If you are inside a Docker container, you can increase /dev/shm size by passing '--shm-size=10.24gb' to 'docker run' (or add it to the run_options list in a Ray cluster config). Make sure to set this to more than 30% of available RAM.\n"
     ]
    },
    {
     "data": {
      "text/plain": [
       "RayContext(dashboard_url='', python_version='3.8.8', ray_version='1.13.0', ray_commit='e4ce38d001dbbe09cd21c497fedd03d692b2be3e', address_info={'node_ip_address': '10.1.150.226', 'raylet_ip_address': '10.1.150.226', 'redis_address': None, 'object_store_address': '/tmp/ray/session_2022-06-27_19-46-37_929900_63232/sockets/plasma_store', 'raylet_socket_name': '/tmp/ray/session_2022-06-27_19-46-37_929900_63232/sockets/raylet', 'webui_url': '', 'session_dir': '/tmp/ray/session_2022-06-27_19-46-37_929900_63232', 'metrics_export_port': 44028, 'gcs_address': '10.1.150.226:58812', 'address': '10.1.150.226:58812', 'node_id': 'f4a7237515febbe8ab5992ba3b66df64619839e93828f4e1c6c34c5b'})"
      ]
     },
     "execution_count": 3,
     "metadata": {},
     "output_type": "execute_result"
    }
   ],
   "source": [
    "ray.init()"
   ]
  },
  {
   "cell_type": "code",
   "execution_count": 4,
   "id": "c676af64",
   "metadata": {},
   "outputs": [],
   "source": [
    "def env_creator(env_config):\n",
    "    return RayTradingEnvironment()"
   ]
  },
  {
   "cell_type": "code",
   "execution_count": 5,
   "id": "9917c015",
   "metadata": {},
   "outputs": [],
   "source": [
    "# register the custum env\n",
    "register_env(\"my_env\", env_creator)"
   ]
  },
  {
   "cell_type": "code",
   "execution_count": 6,
   "id": "cf63ebab",
   "metadata": {},
   "outputs": [
    {
     "name": "stderr",
     "output_type": "stream",
     "text": [
      "2022-06-27 19:46:40,908\tINFO trainer.py:2332 -- Your framework setting is 'tf', meaning you are using static-graph mode. Set framework='tf2' to enable eager execution with tf2.x. You may also then want to set eager_tracing=True in order to reach similar execution speed as with static-graph mode.\n",
      "2022-06-27 19:46:40,910\tINFO ppo.py:414 -- In multi-agent mode, policies will be optimized sequentially by the multi-GPU optimizer. Consider setting simple_optimizer=True if this doesn't work for you.\n",
      "2022-06-27 19:46:40,910\tINFO trainer.py:903 -- Current log_level is WARN. For more information, set 'log_level': 'INFO' / 'DEBUG' or use the -v and -vv flags.\n",
      "\u001b[2m\u001b[36m(RolloutWorker pid=64116)\u001b[0m INFO:ray_trading_env:ray_trading_env logger started.\n",
      "\u001b[2m\u001b[36m(RolloutWorker pid=64117)\u001b[0m INFO:ray_trading_env:ray_trading_env logger started.\n",
      "\u001b[2m\u001b[36m(RolloutWorker pid=64116)\u001b[0m INFO:ray_trading_env:got data for AAPL...\n",
      "\u001b[2m\u001b[36m(RolloutWorker pid=64116)\u001b[0m /opt/conda/lib/python3.8/site-packages/gym/spaces/box.py:73: UserWarning: \u001b[33mWARN: Box bound precision lowered by casting to float32\u001b[0m\n",
      "\u001b[2m\u001b[36m(RolloutWorker pid=64116)\u001b[0m   logger.warn(\n",
      "\u001b[2m\u001b[36m(RolloutWorker pid=64116)\u001b[0m 2022-06-27 19:46:43,353\tWARNING env.py:135 -- Your env doesn't have a .spec.max_episode_steps attribute. This is fine if you have set 'horizon' in your config dictionary, or `soft_horizon`. However, if you haven't, 'horizon' will default to infinity, and your environment will not be reset.\n",
      "\u001b[2m\u001b[36m(RolloutWorker pid=64117)\u001b[0m INFO:ray_trading_env:got data for AAPL...\n",
      "\u001b[2m\u001b[36m(RolloutWorker pid=64117)\u001b[0m /opt/conda/lib/python3.8/site-packages/gym/spaces/box.py:73: UserWarning: \u001b[33mWARN: Box bound precision lowered by casting to float32\u001b[0m\n",
      "\u001b[2m\u001b[36m(RolloutWorker pid=64117)\u001b[0m   logger.warn(\n",
      "\u001b[2m\u001b[36m(RolloutWorker pid=64117)\u001b[0m 2022-06-27 19:46:43,481\tWARNING env.py:135 -- Your env doesn't have a .spec.max_episode_steps attribute. This is fine if you have set 'horizon' in your config dictionary, or `soft_horizon`. However, if you haven't, 'horizon' will default to infinity, and your environment will not be reset.\n",
      "2022-06-27 19:46:46,257\tWARNING util.py:65 -- Install gputil for GPU system monitoring.\n"
     ]
    }
   ],
   "source": [
    "# trainer instance with registered custom env (by calling its name)\n",
    "trainer = ppo.PPOTrainer(env=\"my_env\")"
   ]
  },
  {
   "cell_type": "code",
   "execution_count": 7,
   "id": "4e4b86db",
   "metadata": {},
   "outputs": [
    {
     "name": "stdout",
     "output_type": "stream",
     "text": [
      "."
     ]
    },
    {
     "name": "stderr",
     "output_type": "stream",
     "text": [
      "2022-06-27 19:46:47,646\tWARNING deprecation.py:46 -- DeprecationWarning: `slice` has been deprecated. Use `SampleBatch[start:stop]` instead. This will raise an error in the future!\n"
     ]
    },
    {
     "name": "stdout",
     "output_type": "stream",
     "text": [
      "...."
     ]
    }
   ],
   "source": [
    "for _ in range(5):\n",
    "    print('.', end=\"\")\n",
    "    results = trainer.train()"
   ]
  }
 ],
 "metadata": {
  "kernelspec": {
   "display_name": "Python 3 (ipykernel)",
   "language": "python",
   "name": "python3"
  },
  "language_info": {
   "codemirror_mode": {
    "name": "ipython",
    "version": 3
   },
   "file_extension": ".py",
   "mimetype": "text/x-python",
   "name": "python",
   "nbconvert_exporter": "python",
   "pygments_lexer": "ipython3",
   "version": "3.8.8"
  }
 },
 "nbformat": 4,
 "nbformat_minor": 5
}
